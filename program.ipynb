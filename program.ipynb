{
 "cells": [
  {
   "cell_type": "code",
   "execution_count": 4,
   "metadata": {},
   "outputs": [
    {
     "name": "stdin",
     "output_type": "stream",
     "text": [
      "What is your name? chase\n",
      "1 or 2 1\n"
     ]
    }
   ],
   "source": [
    "nameStr = \"What is your name?\"\n",
    "yourNameStr = input(nameStr)\n",
    "str1 = \"you are a github legend.\"\n",
    "str2 = \"you need to practice your github skills.\"\n",
    "\n",
    "choiceStr = \"1 or 2\"\n",
    "choiceNumber = int(input(choiceStr))\n",
    "\n",
    "if(choiceNumber = 1):\n",
    "    print\n",
    "\n"
   ]
  },
  {
   "cell_type": "code",
   "execution_count": null,
   "metadata": {},
   "outputs": [],
   "source": []
  }
 ],
 "metadata": {
  "kernelspec": {
   "display_name": "Python 3",
   "language": "python",
   "name": "python3"
  },
  "language_info": {
   "codemirror_mode": {
    "name": "ipython",
    "version": 3
   },
   "file_extension": ".py",
   "mimetype": "text/x-python",
   "name": "python",
   "nbconvert_exporter": "python",
   "pygments_lexer": "ipython3",
   "version": "3.6.7"
  }
 },
 "nbformat": 4,
 "nbformat_minor": 4
}
