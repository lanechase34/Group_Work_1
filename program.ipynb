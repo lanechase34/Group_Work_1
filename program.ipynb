{
 "cells": [
  {
   "cell_type": "code",
   "execution_count": 5,
   "metadata": {},
   "outputs": [
    {
     "name": "stdin",
     "output_type": "stream",
     "text": [
      "What is your name? Chase\n",
      "1 or 2 2\n"
     ]
    },
    {
     "name": "stdout",
     "output_type": "stream",
     "text": [
      "Chase , you need to practice your github skills.\n"
     ]
    }
   ],
   "source": [
    "nameStr = \"What is your name?\"\n",
    "yourNameStr = input(nameStr)\n",
    "str1 = \", you are a github legend.\"\n",
    "str2 = \", you need to practice your github skills.\"\n",
    "\n",
    "choiceStr = \"1 or 2\"\n",
    "choiceNumber = int(input(choiceStr))\n",
    "\n",
    "if(choiceNumber == 1):\n",
    "    print(yourNameStr, str1)\n",
    "elif(choiceNumber == 2):\n",
    "    print(yourNameStr, str2)\n",
    "else:\n",
    "    print(\"Valid number not pressed\")\n",
    "\n"
   ]
  },
  {
   "cell_type": "code",
   "execution_count": null,
   "metadata": {},
   "outputs": [],
   "source": []
  }
 ],
 "metadata": {
  "kernelspec": {
   "display_name": "Python 3",
   "language": "python",
   "name": "python3"
  },
  "language_info": {
   "codemirror_mode": {
    "name": "ipython",
    "version": 3
   },
   "file_extension": ".py",
   "mimetype": "text/x-python",
   "name": "python",
   "nbconvert_exporter": "python",
   "pygments_lexer": "ipython3",
   "version": "3.6.7"
  }
 },
 "nbformat": 4,
 "nbformat_minor": 4
}
